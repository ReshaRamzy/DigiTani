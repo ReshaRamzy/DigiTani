{
 "cells": [
  {
   "cell_type": "code",
   "execution_count": 1,
   "id": "4682851f",
   "metadata": {
    "execution": {
     "iopub.execute_input": "2023-06-05T09:19:04.292396Z",
     "iopub.status.busy": "2023-06-05T09:19:04.292029Z",
     "iopub.status.idle": "2023-06-05T09:19:14.974239Z",
     "shell.execute_reply": "2023-06-05T09:19:14.973235Z"
    },
    "papermill": {
     "duration": 10.691867,
     "end_time": "2023-06-05T09:19:14.976804",
     "exception": false,
     "start_time": "2023-06-05T09:19:04.284937",
     "status": "completed"
    },
    "tags": []
   },
   "outputs": [
    {
     "name": "stderr",
     "output_type": "stream",
     "text": [
      "/opt/conda/lib/python3.10/site-packages/tensorflow_io/python/ops/__init__.py:98: UserWarning: unable to load libtensorflow_io_plugins.so: unable to open file: libtensorflow_io_plugins.so, from paths: ['/opt/conda/lib/python3.10/site-packages/tensorflow_io/python/ops/libtensorflow_io_plugins.so']\n",
      "caused by: ['/opt/conda/lib/python3.10/site-packages/tensorflow_io/python/ops/libtensorflow_io_plugins.so: undefined symbol: _ZN3tsl6StatusC1EN10tensorflow5error4CodeESt17basic_string_viewIcSt11char_traitsIcEENS_14SourceLocationE']\n",
      "  warnings.warn(f\"unable to load libtensorflow_io_plugins.so: {e}\")\n",
      "/opt/conda/lib/python3.10/site-packages/tensorflow_io/python/ops/__init__.py:104: UserWarning: file system plugins are not loaded: unable to open file: libtensorflow_io.so, from paths: ['/opt/conda/lib/python3.10/site-packages/tensorflow_io/python/ops/libtensorflow_io.so']\n",
      "caused by: ['/opt/conda/lib/python3.10/site-packages/tensorflow_io/python/ops/libtensorflow_io.so: undefined symbol: _ZTVN10tensorflow13GcsFileSystemE']\n",
      "  warnings.warn(f\"file system plugins are not loaded: {e}\")\n"
     ]
    }
   ],
   "source": [
    "import tensorflow as tf\n",
    "from tensorflow.keras.callbacks import EarlyStopping, ReduceLROnPlateau\n",
    "import pandas as pd\n",
    "import numpy as np\n",
    "from sklearn.model_selection import train_test_split\n",
    "from sklearn.preprocessing import MinMaxScaler, LabelEncoder\n",
    "import os"
   ]
  },
  {
   "cell_type": "code",
   "execution_count": 2,
   "id": "2dfecf9a",
   "metadata": {
    "execution": {
     "iopub.execute_input": "2023-06-05T09:19:14.989934Z",
     "iopub.status.busy": "2023-06-05T09:19:14.989291Z",
     "iopub.status.idle": "2023-06-05T09:19:15.026998Z",
     "shell.execute_reply": "2023-06-05T09:19:15.025949Z"
    },
    "papermill": {
     "duration": 0.046292,
     "end_time": "2023-06-05T09:19:15.029179",
     "exception": false,
     "start_time": "2023-06-05T09:19:14.982887",
     "status": "completed"
    },
    "tags": []
   },
   "outputs": [
    {
     "data": {
      "text/html": [
       "<div>\n",
       "<style scoped>\n",
       "    .dataframe tbody tr th:only-of-type {\n",
       "        vertical-align: middle;\n",
       "    }\n",
       "\n",
       "    .dataframe tbody tr th {\n",
       "        vertical-align: top;\n",
       "    }\n",
       "\n",
       "    .dataframe thead th {\n",
       "        text-align: right;\n",
       "    }\n",
       "</style>\n",
       "<table border=\"1\" class=\"dataframe\">\n",
       "  <thead>\n",
       "    <tr style=\"text-align: right;\">\n",
       "      <th></th>\n",
       "      <th>N</th>\n",
       "      <th>P</th>\n",
       "      <th>K</th>\n",
       "      <th>temperature</th>\n",
       "      <th>humidity</th>\n",
       "      <th>ph</th>\n",
       "      <th>rainfall</th>\n",
       "      <th>label</th>\n",
       "    </tr>\n",
       "  </thead>\n",
       "  <tbody>\n",
       "    <tr>\n",
       "      <th>0</th>\n",
       "      <td>90</td>\n",
       "      <td>42</td>\n",
       "      <td>43</td>\n",
       "      <td>20.879744</td>\n",
       "      <td>82.002744</td>\n",
       "      <td>6.502985</td>\n",
       "      <td>202.935536</td>\n",
       "      <td>rice</td>\n",
       "    </tr>\n",
       "    <tr>\n",
       "      <th>1</th>\n",
       "      <td>85</td>\n",
       "      <td>58</td>\n",
       "      <td>41</td>\n",
       "      <td>21.770462</td>\n",
       "      <td>80.319644</td>\n",
       "      <td>7.038096</td>\n",
       "      <td>226.655537</td>\n",
       "      <td>rice</td>\n",
       "    </tr>\n",
       "    <tr>\n",
       "      <th>2</th>\n",
       "      <td>60</td>\n",
       "      <td>55</td>\n",
       "      <td>44</td>\n",
       "      <td>23.004459</td>\n",
       "      <td>82.320763</td>\n",
       "      <td>7.840207</td>\n",
       "      <td>263.964248</td>\n",
       "      <td>rice</td>\n",
       "    </tr>\n",
       "    <tr>\n",
       "      <th>3</th>\n",
       "      <td>74</td>\n",
       "      <td>35</td>\n",
       "      <td>40</td>\n",
       "      <td>26.491096</td>\n",
       "      <td>80.158363</td>\n",
       "      <td>6.980401</td>\n",
       "      <td>242.864034</td>\n",
       "      <td>rice</td>\n",
       "    </tr>\n",
       "    <tr>\n",
       "      <th>4</th>\n",
       "      <td>78</td>\n",
       "      <td>42</td>\n",
       "      <td>42</td>\n",
       "      <td>20.130175</td>\n",
       "      <td>81.604873</td>\n",
       "      <td>7.628473</td>\n",
       "      <td>262.717340</td>\n",
       "      <td>rice</td>\n",
       "    </tr>\n",
       "  </tbody>\n",
       "</table>\n",
       "</div>"
      ],
      "text/plain": [
       "    N   P   K  temperature   humidity        ph    rainfall label\n",
       "0  90  42  43    20.879744  82.002744  6.502985  202.935536  rice\n",
       "1  85  58  41    21.770462  80.319644  7.038096  226.655537  rice\n",
       "2  60  55  44    23.004459  82.320763  7.840207  263.964248  rice\n",
       "3  74  35  40    26.491096  80.158363  6.980401  242.864034  rice\n",
       "4  78  42  42    20.130175  81.604873  7.628473  262.717340  rice"
      ]
     },
     "execution_count": 2,
     "metadata": {},
     "output_type": "execute_result"
    }
   ],
   "source": [
    "data = pd.read_csv('/kaggle/input/crop-recommendation-dataset/Crop_recommendation.csv')\n",
    "data.head()"
   ]
  },
  {
   "cell_type": "code",
   "execution_count": 3,
   "id": "c0d114a3",
   "metadata": {
    "execution": {
     "iopub.execute_input": "2023-06-05T09:19:15.042810Z",
     "iopub.status.busy": "2023-06-05T09:19:15.042216Z",
     "iopub.status.idle": "2023-06-05T09:19:15.058177Z",
     "shell.execute_reply": "2023-06-05T09:19:15.057122Z"
    },
    "papermill": {
     "duration": 0.025382,
     "end_time": "2023-06-05T09:19:15.060891",
     "exception": false,
     "start_time": "2023-06-05T09:19:15.035509",
     "status": "completed"
    },
    "tags": []
   },
   "outputs": [
    {
     "data": {
      "text/html": [
       "<div>\n",
       "<style scoped>\n",
       "    .dataframe tbody tr th:only-of-type {\n",
       "        vertical-align: middle;\n",
       "    }\n",
       "\n",
       "    .dataframe tbody tr th {\n",
       "        vertical-align: top;\n",
       "    }\n",
       "\n",
       "    .dataframe thead th {\n",
       "        text-align: right;\n",
       "    }\n",
       "</style>\n",
       "<table border=\"1\" class=\"dataframe\">\n",
       "  <thead>\n",
       "    <tr style=\"text-align: right;\">\n",
       "      <th></th>\n",
       "      <th>temperature</th>\n",
       "      <th>humidity</th>\n",
       "      <th>rainfall</th>\n",
       "      <th>label</th>\n",
       "    </tr>\n",
       "  </thead>\n",
       "  <tbody>\n",
       "    <tr>\n",
       "      <th>0</th>\n",
       "      <td>20.879744</td>\n",
       "      <td>82.002744</td>\n",
       "      <td>202.935536</td>\n",
       "      <td>rice</td>\n",
       "    </tr>\n",
       "    <tr>\n",
       "      <th>1</th>\n",
       "      <td>21.770462</td>\n",
       "      <td>80.319644</td>\n",
       "      <td>226.655537</td>\n",
       "      <td>rice</td>\n",
       "    </tr>\n",
       "    <tr>\n",
       "      <th>2</th>\n",
       "      <td>23.004459</td>\n",
       "      <td>82.320763</td>\n",
       "      <td>263.964248</td>\n",
       "      <td>rice</td>\n",
       "    </tr>\n",
       "    <tr>\n",
       "      <th>3</th>\n",
       "      <td>26.491096</td>\n",
       "      <td>80.158363</td>\n",
       "      <td>242.864034</td>\n",
       "      <td>rice</td>\n",
       "    </tr>\n",
       "    <tr>\n",
       "      <th>4</th>\n",
       "      <td>20.130175</td>\n",
       "      <td>81.604873</td>\n",
       "      <td>262.717340</td>\n",
       "      <td>rice</td>\n",
       "    </tr>\n",
       "  </tbody>\n",
       "</table>\n",
       "</div>"
      ],
      "text/plain": [
       "   temperature   humidity    rainfall label\n",
       "0    20.879744  82.002744  202.935536  rice\n",
       "1    21.770462  80.319644  226.655537  rice\n",
       "2    23.004459  82.320763  263.964248  rice\n",
       "3    26.491096  80.158363  242.864034  rice\n",
       "4    20.130175  81.604873  262.717340  rice"
      ]
     },
     "execution_count": 3,
     "metadata": {},
     "output_type": "execute_result"
    }
   ],
   "source": [
    "selected_features = data[['temperature', 'humidity', 'rainfall', 'label']]\n",
    "selected_features.head()"
   ]
  },
  {
   "cell_type": "code",
   "execution_count": 4,
   "id": "e8ee9ca6",
   "metadata": {
    "execution": {
     "iopub.execute_input": "2023-06-05T09:19:15.073788Z",
     "iopub.status.busy": "2023-06-05T09:19:15.073207Z",
     "iopub.status.idle": "2023-06-05T09:19:15.089425Z",
     "shell.execute_reply": "2023-06-05T09:19:15.088535Z"
    },
    "papermill": {
     "duration": 0.02489,
     "end_time": "2023-06-05T09:19:15.091336",
     "exception": false,
     "start_time": "2023-06-05T09:19:15.066446",
     "status": "completed"
    },
    "tags": []
   },
   "outputs": [
    {
     "data": {
      "text/plain": [
       "temperature  humidity  rainfall  label\n",
       "False        False     False     False    2200\n",
       "dtype: int64"
      ]
     },
     "execution_count": 4,
     "metadata": {},
     "output_type": "execute_result"
    }
   ],
   "source": [
    "selected_features.isnull().value_counts()"
   ]
  },
  {
   "cell_type": "code",
   "execution_count": 5,
   "id": "8b39a1db",
   "metadata": {
    "execution": {
     "iopub.execute_input": "2023-06-05T09:19:15.103972Z",
     "iopub.status.busy": "2023-06-05T09:19:15.103265Z",
     "iopub.status.idle": "2023-06-05T09:19:15.108463Z",
     "shell.execute_reply": "2023-06-05T09:19:15.107420Z"
    },
    "papermill": {
     "duration": 0.013874,
     "end_time": "2023-06-05T09:19:15.110708",
     "exception": false,
     "start_time": "2023-06-05T09:19:15.096834",
     "status": "completed"
    },
    "tags": []
   },
   "outputs": [],
   "source": [
    "X = selected_features.drop('label', axis=1)\n",
    "y = selected_features['label']"
   ]
  },
  {
   "cell_type": "code",
   "execution_count": 6,
   "id": "ddddbde8",
   "metadata": {
    "execution": {
     "iopub.execute_input": "2023-06-05T09:19:15.124874Z",
     "iopub.status.busy": "2023-06-05T09:19:15.124095Z",
     "iopub.status.idle": "2023-06-05T09:19:15.129891Z",
     "shell.execute_reply": "2023-06-05T09:19:15.128959Z"
    },
    "papermill": {
     "duration": 0.015124,
     "end_time": "2023-06-05T09:19:15.132047",
     "exception": false,
     "start_time": "2023-06-05T09:19:15.116923",
     "status": "completed"
    },
    "tags": []
   },
   "outputs": [],
   "source": [
    "label_encoder = LabelEncoder()\n",
    "y_encoded = label_encoder.fit_transform(y)"
   ]
  },
  {
   "cell_type": "code",
   "execution_count": 7,
   "id": "39581a74",
   "metadata": {
    "execution": {
     "iopub.execute_input": "2023-06-05T09:19:15.145699Z",
     "iopub.status.busy": "2023-06-05T09:19:15.145193Z",
     "iopub.status.idle": "2023-06-05T09:19:15.152112Z",
     "shell.execute_reply": "2023-06-05T09:19:15.151133Z"
    },
    "papermill": {
     "duration": 0.015661,
     "end_time": "2023-06-05T09:19:15.154036",
     "exception": false,
     "start_time": "2023-06-05T09:19:15.138375",
     "status": "completed"
    },
    "tags": []
   },
   "outputs": [],
   "source": [
    "X_train, X_test, y_train, y_test = train_test_split(X, y_encoded, test_size=0.2, random_state=42)"
   ]
  },
  {
   "cell_type": "code",
   "execution_count": 8,
   "id": "2bcf70fe",
   "metadata": {
    "execution": {
     "iopub.execute_input": "2023-06-05T09:19:15.166351Z",
     "iopub.status.busy": "2023-06-05T09:19:15.166104Z",
     "iopub.status.idle": "2023-06-05T09:19:15.175280Z",
     "shell.execute_reply": "2023-06-05T09:19:15.174514Z"
    },
    "papermill": {
     "duration": 0.017703,
     "end_time": "2023-06-05T09:19:15.177402",
     "exception": false,
     "start_time": "2023-06-05T09:19:15.159699",
     "status": "completed"
    },
    "tags": []
   },
   "outputs": [],
   "source": [
    "scaler = MinMaxScaler()\n",
    "X_train_scaled = scaler.fit_transform(X_train)\n",
    "X_test_scaled = scaler.transform(X_test)"
   ]
  },
  {
   "cell_type": "code",
   "execution_count": 9,
   "id": "5f510fe9",
   "metadata": {
    "execution": {
     "iopub.execute_input": "2023-06-05T09:19:15.189761Z",
     "iopub.status.busy": "2023-06-05T09:19:15.189455Z",
     "iopub.status.idle": "2023-06-05T09:19:15.194667Z",
     "shell.execute_reply": "2023-06-05T09:19:15.193846Z"
    },
    "papermill": {
     "duration": 0.013396,
     "end_time": "2023-06-05T09:19:15.196566",
     "exception": false,
     "start_time": "2023-06-05T09:19:15.183170",
     "status": "completed"
    },
    "tags": []
   },
   "outputs": [
    {
     "data": {
      "text/plain": [
       "(1760, 3)"
      ]
     },
     "execution_count": 9,
     "metadata": {},
     "output_type": "execute_result"
    }
   ],
   "source": [
    "X_train.shape"
   ]
  },
  {
   "cell_type": "code",
   "execution_count": 10,
   "id": "deaffef7",
   "metadata": {
    "execution": {
     "iopub.execute_input": "2023-06-05T09:19:15.209064Z",
     "iopub.status.busy": "2023-06-05T09:19:15.208810Z",
     "iopub.status.idle": "2023-06-05T09:19:19.726701Z",
     "shell.execute_reply": "2023-06-05T09:19:19.725895Z"
    },
    "papermill": {
     "duration": 4.536414,
     "end_time": "2023-06-05T09:19:19.738706",
     "exception": false,
     "start_time": "2023-06-05T09:19:15.202292",
     "status": "completed"
    },
    "tags": []
   },
   "outputs": [
    {
     "name": "stdout",
     "output_type": "stream",
     "text": [
      "Model: \"sequential\"\n",
      "_________________________________________________________________\n",
      " Layer (type)                Output Shape              Param #   \n",
      "=================================================================\n",
      " dense (Dense)               (None, 128)               512       \n",
      "                                                                 \n",
      " dense_1 (Dense)             (None, 512)               66048     \n",
      "                                                                 \n",
      " dense_2 (Dense)             (None, 256)               131328    \n",
      "                                                                 \n",
      " dense_3 (Dense)             (None, 128)               32896     \n",
      "                                                                 \n",
      " dense_4 (Dense)             (None, 64)                8256      \n",
      "                                                                 \n",
      " dense_5 (Dense)             (None, 22)                1430      \n",
      "                                                                 \n",
      "=================================================================\n",
      "Total params: 240,470\n",
      "Trainable params: 240,470\n",
      "Non-trainable params: 0\n",
      "_________________________________________________________________\n"
     ]
    }
   ],
   "source": [
    "model = tf.keras.models.Sequential([\n",
    "    \n",
    "    tf.keras.layers.Dense(128, activation='relu', input_shape = (3,)),\n",
    "    tf.keras.layers.Dense(512, activation='relu'),\n",
    "    tf.keras.layers.Dense(256, activation='relu'),\n",
    "    tf.keras.layers.Dense(128, activation='relu'),\n",
    "    tf.keras.layers.Dense(64, activation='relu'),\n",
    "    tf.keras.layers.Dense(22, activation='softmax')\n",
    "])\n",
    "\n",
    "model.summary()"
   ]
  },
  {
   "cell_type": "code",
   "execution_count": 11,
   "id": "232d9b0c",
   "metadata": {
    "execution": {
     "iopub.execute_input": "2023-06-05T09:19:19.754347Z",
     "iopub.status.busy": "2023-06-05T09:19:19.754071Z",
     "iopub.status.idle": "2023-06-05T09:19:19.769622Z",
     "shell.execute_reply": "2023-06-05T09:19:19.768687Z"
    },
    "papermill": {
     "duration": 0.025807,
     "end_time": "2023-06-05T09:19:19.771795",
     "exception": false,
     "start_time": "2023-06-05T09:19:19.745988",
     "status": "completed"
    },
    "tags": []
   },
   "outputs": [],
   "source": [
    "model.compile(loss='sparse_categorical_crossentropy',\n",
    "              optimizer='adam',\n",
    "              metrics=['accuracy'])"
   ]
  },
  {
   "cell_type": "code",
   "execution_count": 12,
   "id": "252e6113",
   "metadata": {
    "execution": {
     "iopub.execute_input": "2023-06-05T09:19:19.787746Z",
     "iopub.status.busy": "2023-06-05T09:19:19.787020Z",
     "iopub.status.idle": "2023-06-05T09:19:19.792352Z",
     "shell.execute_reply": "2023-06-05T09:19:19.791519Z"
    },
    "papermill": {
     "duration": 0.015302,
     "end_time": "2023-06-05T09:19:19.794277",
     "exception": false,
     "start_time": "2023-06-05T09:19:19.778975",
     "status": "completed"
    },
    "tags": []
   },
   "outputs": [],
   "source": [
    "early_stopping = EarlyStopping(monitor='val_loss', patience=10, min_delta=0.005, verbose=1, restore_best_weights=True)\n",
    "reduce_lr = ReduceLROnPlateau(monitor='val_loss', factor=0.3, patience=5, min_lr=0.0001)\n",
    "\n",
    "callback = [early_stopping, reduce_lr]"
   ]
  },
  {
   "cell_type": "code",
   "execution_count": 13,
   "id": "e86d2299",
   "metadata": {
    "execution": {
     "iopub.execute_input": "2023-06-05T09:19:19.811057Z",
     "iopub.status.busy": "2023-06-05T09:19:19.810196Z",
     "iopub.status.idle": "2023-06-05T09:19:44.442669Z",
     "shell.execute_reply": "2023-06-05T09:19:44.441817Z"
    },
    "papermill": {
     "duration": 24.642609,
     "end_time": "2023-06-05T09:19:44.444661",
     "exception": false,
     "start_time": "2023-06-05T09:19:19.802052",
     "status": "completed"
    },
    "tags": []
   },
   "outputs": [
    {
     "name": "stdout",
     "output_type": "stream",
     "text": [
      "Epoch 1/100\n",
      "55/55 [==============================] - 7s 9ms/step - loss: 2.6883 - accuracy: 0.1676 - val_loss: 1.9531 - val_accuracy: 0.3500 - lr: 0.0010\n",
      "Epoch 2/100\n",
      "55/55 [==============================] - 0s 5ms/step - loss: 1.6139 - accuracy: 0.3943 - val_loss: 1.4156 - val_accuracy: 0.4614 - lr: 0.0010\n",
      "Epoch 3/100\n",
      "55/55 [==============================] - 0s 5ms/step - loss: 1.2699 - accuracy: 0.5085 - val_loss: 1.1130 - val_accuracy: 0.5477 - lr: 0.0010\n",
      "Epoch 4/100\n",
      "55/55 [==============================] - 0s 5ms/step - loss: 1.0695 - accuracy: 0.5949 - val_loss: 1.0968 - val_accuracy: 0.6068 - lr: 0.0010\n",
      "Epoch 5/100\n",
      "55/55 [==============================] - 0s 5ms/step - loss: 0.9252 - accuracy: 0.6233 - val_loss: 1.0150 - val_accuracy: 0.5932 - lr: 0.0010\n",
      "Epoch 6/100\n",
      "55/55 [==============================] - 0s 5ms/step - loss: 0.8899 - accuracy: 0.6415 - val_loss: 0.9102 - val_accuracy: 0.6591 - lr: 0.0010\n",
      "Epoch 7/100\n",
      "55/55 [==============================] - 0s 5ms/step - loss: 0.7658 - accuracy: 0.6909 - val_loss: 0.9219 - val_accuracy: 0.6386 - lr: 0.0010\n",
      "Epoch 8/100\n",
      "55/55 [==============================] - 0s 5ms/step - loss: 0.7053 - accuracy: 0.7142 - val_loss: 0.6931 - val_accuracy: 0.7341 - lr: 0.0010\n",
      "Epoch 9/100\n",
      "55/55 [==============================] - 0s 5ms/step - loss: 0.6608 - accuracy: 0.7250 - val_loss: 0.6689 - val_accuracy: 0.7341 - lr: 0.0010\n",
      "Epoch 10/100\n",
      "55/55 [==============================] - 0s 5ms/step - loss: 0.6219 - accuracy: 0.7437 - val_loss: 0.6779 - val_accuracy: 0.6932 - lr: 0.0010\n",
      "Epoch 11/100\n",
      "55/55 [==============================] - 0s 5ms/step - loss: 0.5947 - accuracy: 0.7597 - val_loss: 0.6427 - val_accuracy: 0.7273 - lr: 0.0010\n",
      "Epoch 12/100\n",
      "55/55 [==============================] - 0s 5ms/step - loss: 0.5385 - accuracy: 0.7847 - val_loss: 0.6049 - val_accuracy: 0.7886 - lr: 0.0010\n",
      "Epoch 13/100\n",
      "55/55 [==============================] - 0s 5ms/step - loss: 0.4654 - accuracy: 0.8188 - val_loss: 0.5441 - val_accuracy: 0.7705 - lr: 0.0010\n",
      "Epoch 14/100\n",
      "55/55 [==============================] - 0s 5ms/step - loss: 0.4496 - accuracy: 0.8233 - val_loss: 0.4736 - val_accuracy: 0.8114 - lr: 0.0010\n",
      "Epoch 15/100\n",
      "55/55 [==============================] - 0s 5ms/step - loss: 0.5308 - accuracy: 0.7795 - val_loss: 0.4903 - val_accuracy: 0.7932 - lr: 0.0010\n",
      "Epoch 16/100\n",
      "55/55 [==============================] - 0s 5ms/step - loss: 0.4480 - accuracy: 0.8239 - val_loss: 0.4963 - val_accuracy: 0.8182 - lr: 0.0010\n",
      "Epoch 17/100\n",
      "55/55 [==============================] - 0s 6ms/step - loss: 0.4236 - accuracy: 0.8381 - val_loss: 0.4527 - val_accuracy: 0.8227 - lr: 0.0010\n",
      "Epoch 18/100\n",
      "55/55 [==============================] - 0s 5ms/step - loss: 0.4317 - accuracy: 0.8233 - val_loss: 0.4848 - val_accuracy: 0.8227 - lr: 0.0010\n",
      "Epoch 19/100\n",
      "55/55 [==============================] - 0s 5ms/step - loss: 0.4682 - accuracy: 0.8131 - val_loss: 0.4923 - val_accuracy: 0.8409 - lr: 0.0010\n",
      "Epoch 20/100\n",
      "55/55 [==============================] - 0s 5ms/step - loss: 0.4340 - accuracy: 0.8250 - val_loss: 0.4854 - val_accuracy: 0.8023 - lr: 0.0010\n",
      "Epoch 21/100\n",
      "55/55 [==============================] - 0s 5ms/step - loss: 0.3801 - accuracy: 0.8500 - val_loss: 0.4879 - val_accuracy: 0.8341 - lr: 0.0010\n",
      "Epoch 22/100\n",
      "55/55 [==============================] - 0s 7ms/step - loss: 0.3940 - accuracy: 0.8352 - val_loss: 0.3874 - val_accuracy: 0.8477 - lr: 0.0010\n",
      "Epoch 23/100\n",
      "55/55 [==============================] - 1s 10ms/step - loss: 0.3848 - accuracy: 0.8489 - val_loss: 0.4457 - val_accuracy: 0.8409 - lr: 0.0010\n",
      "Epoch 24/100\n",
      "55/55 [==============================] - 0s 7ms/step - loss: 0.3955 - accuracy: 0.8409 - val_loss: 0.3868 - val_accuracy: 0.8636 - lr: 0.0010\n",
      "Epoch 25/100\n",
      "55/55 [==============================] - 0s 7ms/step - loss: 0.3928 - accuracy: 0.8511 - val_loss: 0.4359 - val_accuracy: 0.8295 - lr: 0.0010\n",
      "Epoch 26/100\n",
      "55/55 [==============================] - 0s 6ms/step - loss: 0.3566 - accuracy: 0.8591 - val_loss: 0.3737 - val_accuracy: 0.8568 - lr: 0.0010\n",
      "Epoch 27/100\n",
      "55/55 [==============================] - 0s 5ms/step - loss: 0.3692 - accuracy: 0.8551 - val_loss: 0.3881 - val_accuracy: 0.8341 - lr: 0.0010\n",
      "Epoch 28/100\n",
      "55/55 [==============================] - 0s 5ms/step - loss: 0.3275 - accuracy: 0.8801 - val_loss: 0.3664 - val_accuracy: 0.8614 - lr: 0.0010\n",
      "Epoch 29/100\n",
      "55/55 [==============================] - 0s 5ms/step - loss: 0.3383 - accuracy: 0.8653 - val_loss: 0.3976 - val_accuracy: 0.8523 - lr: 0.0010\n",
      "Epoch 30/100\n",
      "55/55 [==============================] - 0s 5ms/step - loss: 0.4203 - accuracy: 0.8426 - val_loss: 0.4500 - val_accuracy: 0.8182 - lr: 0.0010\n",
      "Epoch 31/100\n",
      "55/55 [==============================] - 0s 5ms/step - loss: 0.3404 - accuracy: 0.8659 - val_loss: 0.3251 - val_accuracy: 0.8750 - lr: 0.0010\n",
      "Epoch 32/100\n",
      "55/55 [==============================] - 0s 5ms/step - loss: 0.2989 - accuracy: 0.8744 - val_loss: 0.3543 - val_accuracy: 0.8841 - lr: 0.0010\n",
      "Epoch 33/100\n",
      "55/55 [==============================] - 0s 5ms/step - loss: 0.3370 - accuracy: 0.8653 - val_loss: 0.5311 - val_accuracy: 0.8068 - lr: 0.0010\n",
      "Epoch 34/100\n",
      "55/55 [==============================] - 0s 5ms/step - loss: 0.3816 - accuracy: 0.8494 - val_loss: 0.2986 - val_accuracy: 0.9068 - lr: 0.0010\n",
      "Epoch 35/100\n",
      "55/55 [==============================] - 0s 5ms/step - loss: 0.3017 - accuracy: 0.8813 - val_loss: 0.4225 - val_accuracy: 0.8409 - lr: 0.0010\n",
      "Epoch 36/100\n",
      "55/55 [==============================] - 0s 5ms/step - loss: 0.2836 - accuracy: 0.8875 - val_loss: 0.2884 - val_accuracy: 0.9091 - lr: 0.0010\n",
      "Epoch 37/100\n",
      "55/55 [==============================] - 0s 5ms/step - loss: 0.3478 - accuracy: 0.8602 - val_loss: 0.4175 - val_accuracy: 0.8409 - lr: 0.0010\n",
      "Epoch 38/100\n",
      "55/55 [==============================] - 0s 6ms/step - loss: 0.3302 - accuracy: 0.8665 - val_loss: 0.4752 - val_accuracy: 0.8000 - lr: 0.0010\n",
      "Epoch 39/100\n",
      "55/55 [==============================] - 0s 5ms/step - loss: 0.3125 - accuracy: 0.8665 - val_loss: 0.3512 - val_accuracy: 0.8636 - lr: 0.0010\n",
      "Epoch 40/100\n",
      "55/55 [==============================] - 0s 5ms/step - loss: 0.3088 - accuracy: 0.8744 - val_loss: 0.4219 - val_accuracy: 0.8273 - lr: 0.0010\n",
      "Epoch 41/100\n",
      "55/55 [==============================] - 0s 5ms/step - loss: 0.3502 - accuracy: 0.8619 - val_loss: 0.3098 - val_accuracy: 0.8682 - lr: 0.0010\n",
      "Epoch 42/100\n",
      "55/55 [==============================] - 0s 5ms/step - loss: 0.2306 - accuracy: 0.9114 - val_loss: 0.2688 - val_accuracy: 0.9023 - lr: 3.0000e-04\n",
      "Epoch 43/100\n",
      "55/55 [==============================] - 0s 5ms/step - loss: 0.2233 - accuracy: 0.9114 - val_loss: 0.2818 - val_accuracy: 0.8955 - lr: 3.0000e-04\n",
      "Epoch 44/100\n",
      "55/55 [==============================] - 0s 5ms/step - loss: 0.2178 - accuracy: 0.9125 - val_loss: 0.2809 - val_accuracy: 0.9000 - lr: 3.0000e-04\n",
      "Epoch 45/100\n",
      "55/55 [==============================] - 0s 5ms/step - loss: 0.2223 - accuracy: 0.9136 - val_loss: 0.3302 - val_accuracy: 0.8682 - lr: 3.0000e-04\n",
      "Epoch 46/100\n",
      "55/55 [==============================] - 0s 5ms/step - loss: 0.2157 - accuracy: 0.9148 - val_loss: 0.2882 - val_accuracy: 0.9000 - lr: 3.0000e-04\n",
      "Epoch 47/100\n",
      "55/55 [==============================] - 0s 5ms/step - loss: 0.2198 - accuracy: 0.9148 - val_loss: 0.2762 - val_accuracy: 0.9045 - lr: 3.0000e-04\n",
      "Epoch 48/100\n",
      "55/55 [==============================] - 0s 5ms/step - loss: 0.2025 - accuracy: 0.9193 - val_loss: 0.2590 - val_accuracy: 0.9091 - lr: 1.0000e-04\n",
      "Epoch 49/100\n",
      "55/55 [==============================] - 0s 5ms/step - loss: 0.1947 - accuracy: 0.9267 - val_loss: 0.2730 - val_accuracy: 0.9045 - lr: 1.0000e-04\n",
      "Epoch 50/100\n",
      "55/55 [==============================] - 0s 5ms/step - loss: 0.1978 - accuracy: 0.9267 - val_loss: 0.2502 - val_accuracy: 0.9023 - lr: 1.0000e-04\n",
      "Epoch 51/100\n",
      "55/55 [==============================] - 0s 5ms/step - loss: 0.1950 - accuracy: 0.9273 - val_loss: 0.2544 - val_accuracy: 0.9045 - lr: 1.0000e-04\n",
      "Epoch 52/100\n",
      "55/55 [==============================] - 0s 5ms/step - loss: 0.1965 - accuracy: 0.9261 - val_loss: 0.2533 - val_accuracy: 0.9136 - lr: 1.0000e-04\n",
      "Epoch 53/100\n",
      "55/55 [==============================] - 0s 5ms/step - loss: 0.2010 - accuracy: 0.9170 - val_loss: 0.2605 - val_accuracy: 0.9114 - lr: 1.0000e-04\n",
      "Epoch 54/100\n",
      "55/55 [==============================] - 0s 5ms/step - loss: 0.1971 - accuracy: 0.9216 - val_loss: 0.2461 - val_accuracy: 0.9023 - lr: 1.0000e-04\n",
      "Epoch 55/100\n",
      "55/55 [==============================] - 0s 5ms/step - loss: 0.1946 - accuracy: 0.9284 - val_loss: 0.2609 - val_accuracy: 0.9114 - lr: 1.0000e-04\n",
      "Epoch 56/100\n",
      "55/55 [==============================] - 0s 5ms/step - loss: 0.1920 - accuracy: 0.9284 - val_loss: 0.2593 - val_accuracy: 0.9023 - lr: 1.0000e-04\n",
      "Epoch 57/100\n",
      "55/55 [==============================] - 0s 5ms/step - loss: 0.1984 - accuracy: 0.9273 - val_loss: 0.2504 - val_accuracy: 0.9068 - lr: 1.0000e-04\n",
      "Epoch 58/100\n",
      "55/55 [==============================] - 0s 5ms/step - loss: 0.1981 - accuracy: 0.9227 - val_loss: 0.2571 - val_accuracy: 0.9091 - lr: 1.0000e-04\n",
      "Epoch 59/100\n",
      "55/55 [==============================] - 0s 5ms/step - loss: 0.1944 - accuracy: 0.9250 - val_loss: 0.2576 - val_accuracy: 0.9091 - lr: 1.0000e-04\n",
      "Epoch 60/100\n",
      "48/55 [=========================>....] - ETA: 0s - loss: 0.1956 - accuracy: 0.9238Restoring model weights from the end of the best epoch: 50.\n",
      "55/55 [==============================] - 0s 7ms/step - loss: 0.1973 - accuracy: 0.9233 - val_loss: 0.2541 - val_accuracy: 0.8932 - lr: 1.0000e-04\n",
      "Epoch 60: early stopping\n"
     ]
    }
   ],
   "source": [
    "history = model.fit(X_train_scaled, y_train, epochs=100, batch_size=32, validation_data=(X_test_scaled, y_test), callbacks = [callback])"
   ]
  },
  {
   "cell_type": "code",
   "execution_count": 14,
   "id": "d9a64972",
   "metadata": {
    "execution": {
     "iopub.execute_input": "2023-06-05T09:19:44.522859Z",
     "iopub.status.busy": "2023-06-05T09:19:44.521969Z",
     "iopub.status.idle": "2023-06-05T09:20:02.452258Z",
     "shell.execute_reply": "2023-06-05T09:20:02.451358Z"
    },
    "papermill": {
     "duration": 17.971192,
     "end_time": "2023-06-05T09:20:02.454453",
     "exception": false,
     "start_time": "2023-06-05T09:19:44.483261",
     "status": "completed"
    },
    "tags": []
   },
   "outputs": [
    {
     "data": {
      "image/png": "[encoded data removed]",
      "text/plain": [
       "<Figure size 640x480 with 1 Axes>"
      ]
     },
     "metadata": {},
     "output_type": "display_data"
    },
    {
     "data": {
      "image/png": "[encoded data removed]",
      "text/plain": [
       "<Figure size 640x480 with 1 Axes>"
      ]
     },
     "metadata": {},
     "output_type": "display_data"
    }
   ],
   "source": [
    "import matplotlib.pyplot as plt\n",
    "\n",
    "acc = history.history['accuracy']\n",
    "val_acc = history.history['val_accuracy']\n",
    "loss = history.history['loss']\n",
    "val_loss = history.history['val_loss']\n",
    "\n",
    "epochs = range(len(acc))\n",
    "\n",
    "plt.plot(epochs, acc, 'r', label='Training accuracy')\n",
    "plt.plot(epochs, val_acc, 'b', label='Validation accuracy')\n",
    "plt.title('Training and validation accuracy')\n",
    "plt.legend()\n",
    "plt.figure()\n",
    "\n",
    "plt.plot(epochs, loss, 'r', label='Training Loss')\n",
    "plt.plot(epochs, val_loss, 'b', label='Validation Loss')\n",
    "plt.title('Training and validation loss')\n",
    "plt.legend()\n",
    "\n",
    "plt.show()"
   ]
  },
  {
   "cell_type": "code",
   "execution_count": 15,
   "id": "acdc24ac",
   "metadata": {
    "execution": {
     "iopub.execute_input": "2023-06-05T09:20:02.528913Z",
     "iopub.status.busy": "2023-06-05T09:20:02.528291Z",
     "iopub.status.idle": "2023-06-05T09:20:02.629512Z",
     "shell.execute_reply": "2023-06-05T09:20:02.628521Z"
    },
    "papermill": {
     "duration": 0.140998,
     "end_time": "2023-06-05T09:20:02.631751",
     "exception": false,
     "start_time": "2023-06-05T09:20:02.490753",
     "status": "completed"
    },
    "tags": []
   },
   "outputs": [
    {
     "name": "stdout",
     "output_type": "stream",
     "text": [
      "14/14 [==============================] - 0s 3ms/step - loss: 0.2502 - accuracy: 0.9023\n"
     ]
    }
   ],
   "source": [
    "loss, accuracy = model.evaluate(X_test_scaled, y_test)"
   ]
  },
  {
   "cell_type": "code",
   "execution_count": 16,
   "id": "2d3dc058",
   "metadata": {
    "execution": {
     "iopub.execute_input": "2023-06-05T09:20:02.711411Z",
     "iopub.status.busy": "2023-06-05T09:20:02.710608Z",
     "iopub.status.idle": "2023-06-05T09:20:02.888216Z",
     "shell.execute_reply": "2023-06-05T09:20:02.886926Z"
    },
    "papermill": {
     "duration": 0.217551,
     "end_time": "2023-06-05T09:20:02.890316",
     "exception": false,
     "start_time": "2023-06-05T09:20:02.672765",
     "status": "completed"
    },
    "tags": []
   },
   "outputs": [
    {
     "name": "stdout",
     "output_type": "stream",
     "text": [
      "1/1 [==============================] - 0s 112ms/step\n",
      "Predicted labels:\n",
      "rice\n",
      "jute\n",
      "papaya\n"
     ]
    }
   ],
   "source": [
    "new_data = pd.DataFrame({'temperature': [22, 25, 35], 'humidity': [82, 70, 80], 'rainfall': [250, 200, 150]})\n",
    "new_data_scaled = scaler.transform(new_data)\n",
    "\n",
    "predictions = model.predict(new_data_scaled)\n",
    "\n",
    "predicted_labels = label_encoder.inverse_transform(np.argmax(predictions, axis=1))\n",
    "\n",
    "print(\"Predicted labels:\")\n",
    "for label in predicted_labels:\n",
    "    print(label)"
   ]
  },
  {
   "cell_type": "code",
   "execution_count": 17,
   "id": "0635ac25",
   "metadata": {
    "execution": {
     "iopub.execute_input": "2023-06-05T09:20:02.968974Z",
     "iopub.status.busy": "2023-06-05T09:20:02.968613Z",
     "iopub.status.idle": "2023-06-05T09:20:04.231735Z",
     "shell.execute_reply": "2023-06-05T09:20:04.230815Z"
    },
    "papermill": {
     "duration": 1.30531,
     "end_time": "2023-06-05T09:20:04.234638",
     "exception": false,
     "start_time": "2023-06-05T09:20:02.929328",
     "status": "completed"
    },
    "tags": []
   },
   "outputs": [],
   "source": [
    "model.save('rec.h5')"
   ]
  },
  {
   "cell_type": "code",
   "execution_count": null,
   "id": "b57d44fb",
   "metadata": {
    "papermill": {
     "duration": 0.0365,
     "end_time": "2023-06-05T09:20:04.307458",
     "exception": false,
     "start_time": "2023-06-05T09:20:04.270958",
     "status": "completed"
    },
    "tags": []
   },
   "outputs": [],
   "source": []
  }
 ],
 "metadata": {
  "kernelspec": {
   "display_name": "Python 3",
   "language": "python",
   "name": "python3"
  },
  "language_info": {
   "codemirror_mode": {
    "name": "ipython",
    "version": 3
   },
   "file_extension": ".py",
   "mimetype": "text/x-python",
   "name": "python",
   "nbconvert_exporter": "python",
   "pygments_lexer": "ipython3",
   "version": "3.10.10"
  },
  "papermill": {
   "default_parameters": {},
   "duration": 74.96489,
   "end_time": "2023-06-05T09:20:07.390979",
   "environment_variables": {},
   "exception": null,
   "input_path": "__notebook__.ipynb",
   "output_path": "__notebook__.ipynb",
   "parameters": {},
   "start_time": "2023-06-05T09:18:52.426089",
   "version": "2.4.0"
  }
 },
 "nbformat": 4,
 "nbformat_minor": 5
}
